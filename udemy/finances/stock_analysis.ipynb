{
 "cells": [
  {
   "cell_type": "code",
   "execution_count": 36,
   "metadata": {
    "collapsed": false
   },
   "outputs": [
    {
     "name": "stderr",
     "output_type": "stream",
     "text": [
      "INFO:requests.packages.urllib3.connectionpool:Starting new HTTP connection (1): ichart.finance.yahoo.com\n"
     ]
    }
   ],
   "source": [
    "from pandas_datareader import data\n",
    "import datetime\n",
    "from bokeh.plotting import figure, show, output_file\n",
    "from bokeh.embed import components\n",
    "from bokeh.resources import CDN\n",
    "\n",
    "start = datetime.datetime(2016,3,1)\n",
    "end = datetime.datetime(2017,1,30)\n",
    "df = data.DataReader(name='GOOG',data_source='yahoo',start=start,end=end)\n",
    "#df\n",
    "\n",
    "def inc_dec(c,o):\n",
    "    return 'Increase' if c>=o else 'Decrease'\n",
    "\n",
    "df['Status'] = [inc_dec(c,o) for c,o in zip(df.Close,df.Open)]\n",
    "df['Middle'] = (df.Open+df.Close)/2\n",
    "df['Height'] = abs(df.Open-df.Close)\n",
    "\n",
    "\n",
    "p=figure(x_axis_type='datetime',width=1000,height=300,responsive=True)\n",
    "p.title.text = 'Candle'\n",
    "p.grid.grid_line_alpha=0.3\n",
    "\n",
    "hours_12 = 12*60*60*1000\n",
    "\n",
    "p.segment(df.index,df.High,df.index,df.Low,color='Black')\n",
    "p.rect(df.index[df.Status=='Increase'],df.Middle[df.Status=='Increase'],\n",
    "       hours_12,df.Height[df.Status=='Increase'],fill_color='#CCCFFF',line_color='black')\n",
    "p.rect(df.index[df.Status=='Decrease'],df.Middle[df.Status=='Decrease'],\n",
    "       hours_12,df.Height[df.Status=='Decrease'],fill_color='#FF3333',line_color='black')\n",
    "\n",
    "\n",
    "#output_file('cs.html')\n",
    "#show(p)\n",
    "script1, div1 = components(p)\n",
    "cdn_js=CDN.js_files\n",
    "cdn_css=CDN.css_files"
   ]
  },
  {
   "cell_type": "code",
   "execution_count": null,
   "metadata": {
    "collapsed": true
   },
   "outputs": [],
   "source": []
  }
 ],
 "metadata": {
  "kernelspec": {
   "display_name": "Python 3",
   "language": "python",
   "name": "python3"
  },
  "language_info": {
   "codemirror_mode": {
    "name": "ipython",
    "version": 3
   },
   "file_extension": ".py",
   "mimetype": "text/x-python",
   "name": "python",
   "nbconvert_exporter": "python",
   "pygments_lexer": "ipython3",
   "version": "3.5.2+"
  }
 },
 "nbformat": 4,
 "nbformat_minor": 2
}
