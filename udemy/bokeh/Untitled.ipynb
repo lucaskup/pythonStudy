{
 "cells": [
  {
   "cell_type": "code",
   "execution_count": 2,
   "metadata": {
    "collapsed": false
   },
   "outputs": [
    {
     "name": "stderr",
     "output_type": "stream",
     "text": [
      "INFO:bokeh.core.state:Session output file 'Scatter_charts.html' already exists, will be overwritten.\n"
     ]
    }
   ],
   "source": [
    "from bokeh.charts import Scatter, output_file, show\n",
    "import pandas\n",
    "\n",
    "df = pandas.DataFrame(columns=[\"X\",\"Y\"])\n",
    "df[\"X\"]=[1,2,3,4,5]\n",
    "df[\"Y\"]=[5,6,4,5,3]\n",
    "\n",
    "p=Scatter(df,x=\"X\",y=\"Y\",title=\"Temperature Observation\",xlabel=\"Day of observations\",ylabel=\"Temperature\")\n",
    "output_file(\"Scatter_charts.html\")\n",
    "show(p)"
   ]
  },
  {
   "cell_type": "code",
   "execution_count": 6,
   "metadata": {
    "collapsed": false
   },
   "outputs": [
    {
     "name": "stderr",
     "output_type": "stream",
     "text": [
      "INFO:bokeh.core.state:Session output file 'Scatter_plot.html' already exists, will be overwritten.\n"
     ]
    }
   ],
   "source": [
    "from bokeh.plotting import figure, output_file, show\n",
    "p=figure(plot_width=500,plot_height=400)\n",
    "p.triangle([1,2,3,4,5],[5,6,5,5,3],size=[8,12,14,15,50],color='red')\n",
    "output_file('Scatter_plot.html')\n",
    "show(p)"
   ]
  },
  {
   "cell_type": "code",
   "execution_count": 8,
   "metadata": {
    "collapsed": false
   },
   "outputs": [
    {
     "name": "stderr",
     "output_type": "stream",
     "text": [
      "INFO:bokeh.core.state:Session output file 'Scatter_charts1.html' already exists, will be overwritten.\n"
     ]
    }
   ],
   "source": [
    "from bokeh.plotting import figure, output_file, show\n",
    "import pandas\n",
    "\n",
    "p = pandas.ExcelFile('verlegenhuken.xlsx')\n",
    "df = p.parse('Ark1')\n",
    "df.loc[:,'Pressure'] /= 10\n",
    "p=figure(plot_width=500,plot_height=400)\n",
    "p.triangle(df['Temperature'],df['Pressure'],size=2,color='blue')\n",
    "\n",
    "output_file(\"Scatter_charts1.html\")\n",
    "show(p)\n"
   ]
  },
  {
   "cell_type": "code",
   "execution_count": 12,
   "metadata": {
    "collapsed": false
   },
   "outputs": [
    {
     "name": "stderr",
     "output_type": "stream",
     "text": [
      "INFO:bokeh.core.state:Session output file 'Scatter_charts1.html' already exists, will be overwritten.\n"
     ]
    }
   ],
   "source": [
    "from bokeh.plotting import figure, output_file, show\n",
    "import pandas\n",
    "\n",
    "df = pandas.read_csv(\"http://ichart.yahoo.com/table.csv?s=AAPL&&a=0&b=1&c=2000&d=0&e=1&f=2010\",parse_dates=[\"Date\"])\n",
    "\n",
    "p= figure(width=800,height=500,x_axis_type=\"datetime\")\n",
    "\n",
    "p.line(df['Date'],df['Close'],color='blue')\n",
    "\n",
    "output_file(\"Scatter_charts1.html\")\n",
    "show(p)\n"
   ]
  }
 ],
 "metadata": {
  "kernelspec": {
   "display_name": "Python 3",
   "language": "python",
   "name": "python3"
  },
  "language_info": {
   "codemirror_mode": {
    "name": "ipython",
    "version": 3
   },
   "file_extension": ".py",
   "mimetype": "text/x-python",
   "name": "python",
   "nbconvert_exporter": "python",
   "pygments_lexer": "ipython3",
   "version": "3.5.2+"
  }
 },
 "nbformat": 4,
 "nbformat_minor": 2
}
